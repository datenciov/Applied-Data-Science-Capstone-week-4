{
  "nbformat": 4,
  "nbformat_minor": 0,
  "metadata": {
    "kernelspec": {
      "display_name": "Python 3",
      "language": "python",
      "name": "python3"
    },
    "language_info": {
      "codemirror_mode": {
        "name": "ipython",
        "version": 3
      },
      "file_extension": ".py",
      "mimetype": "text/x-python",
      "name": "python",
      "nbconvert_exporter": "python",
      "pygments_lexer": "ipython3",
      "version": "3.6.5"
    },
    "colab": {
      "name": "Capstone_Project_week_4_part1.ipynb",
      "provenance": [],
      "collapsed_sections": [],
      "toc_visible": true
    }
  },
  "cells": [
    {
      "cell_type": "markdown",
      "metadata": {
        "id": "LTPDsVOOpAUL",
        "colab_type": "text"
      },
      "source": [
        "## Introduction"
      ]
    },
    {
      "cell_type": "markdown",
      "metadata": {
        "id": "nDeK3RWEpAUN",
        "colab_type": "text"
      },
      "source": [
        "#### Background and description of the problem:"
      ]
    },
    {
      "cell_type": "markdown",
      "metadata": {
        "id": "6Y5LwgF3pAUP",
        "colab_type": "text"
      },
      "source": [
        "South America, or South America, is considered by some to be its own continent while others only consider it a subcontinent within America. By extension it is behind Asia, Africa and North America, but by population it only exceeds Oceania. With a very peculiar geography, it contains some of the most impressive natural areas around the world.\n",
        "Its history, its population, its languages ​​and its culture are closely linked to European colonization, although the indigenous populations that have inhabited the continent for centuries have a very important role. As a result we have one of the most diverse and interesting continents in cultural aspects.\n",
        "According to the Trip Advisor portal these are the ten most popular destinations in South America, which each year gathers the opinion of thousands of travelers.\n",
        "Cusco- Peru\n",
        "\n",
        "* Rio de Janeiro Brazil\n",
        "* Buenos Aires, Argentina\n",
        "* Cartagena Colombia\n",
        "* Gramado - Brazil\n",
        "* Lima Peru\n",
        "* Porto Seguro - Brazil\n",
        "* Ipojuca - Brazil\n",
        "* Santiago de Chile\n",
        "* Jijoca de Jericoacoara - Brazil\n",
        "\n",
        "It is desired to identify which cities in South America are similar to the cities mentioned above and determine the common characteristics that cities have."
      ]
    },
    {
      "cell_type": "markdown",
      "metadata": {
        "id": "5BRRc-fQpAUR",
        "colab_type": "text"
      },
      "source": [
        "#### Data description and problem resolution:"
      ]
    },
    {
      "cell_type": "markdown",
      "metadata": {
        "id": "HY1uQ6YupAUS",
        "colab_type": "text"
      },
      "source": [
        "To solve the problem we will use the data offered by Foursquare, it is a mobile application, which through the creation of digital maps through GPS tells us which centers, places or businesses of interest are close to our environment and we invite from the mobile to tell our acquaintances where we are every moment, thus linking Google Maps, Twitter and Facebook.\n",
        "\n",
        "In addition, only the ten most populous cities in the countries of South America will be chosen, this information will be obtained through the web scraping technique, from the following website: https://www.geodatos.net/poblacion\n",
        "To determine which cities are similar, the Kmean algorithm is used, which is an unsupervised classification (clustering) algorithm that groups objects into k groups based on their characteristics."
      ]
    }
  ]
}